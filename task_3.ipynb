{
 "cells": [
  {
   "cell_type": "code",
   "execution_count": 2,
   "metadata": {
    "collapsed": true
   },
   "outputs": [],
   "source": [
    "import numpy as np"
   ]
  },
  {
   "cell_type": "markdown",
   "source": [
    "## Formula №1 Normal Distribution"
   ],
   "metadata": {
    "collapsed": false
   }
  },
  {
   "cell_type": "code",
   "execution_count": 3,
   "outputs": [
    {
     "name": "stdout",
     "output_type": "stream",
     "text": [
      "Probability density at x = 1: 0.24197072451914337\n"
     ]
    }
   ],
   "source": [
    "\n",
    "\n",
    "def normal_destribution(x, mu, sigma):\n",
    "    return (1 / (sigma * np.sqrt(2 * np.pi))) * np.exp(-0.5 * ((x - mu) / sigma)**2)\n",
    "\n",
    "probability = normal_destribution(1, 0, 1)\n",
    "print(f'Probability density at x = {1}: {probability}')\n"
   ],
   "metadata": {
    "collapsed": false
   }
  },
  {
   "cell_type": "markdown",
   "source": [
    "## Formula №2 Sigmoid function"
   ],
   "metadata": {
    "collapsed": false
   }
  },
  {
   "cell_type": "code",
   "execution_count": 4,
   "outputs": [
    {
     "name": "stdout",
     "output_type": "stream",
     "text": [
      "Sigmoid function at x = 1: 0.7310585786300049\n"
     ]
    }
   ],
   "source": [
    "\n",
    "def sigmoid_function(x):\n",
    "    return 1/(1 + np.exp(-x))\n",
    "\n",
    "Sigmoid = sigmoid_function(1)\n",
    "print(f'Sigmoid function at x = {1}: {Sigmoid}')"
   ],
   "metadata": {
    "collapsed": false
   }
  },
  {
   "cell_type": "markdown",
   "source": [
    "## Formula №3: Weights update in Logistic Regression"
   ],
   "metadata": {
    "collapsed": false
   }
  },
  {
   "cell_type": "code",
   "execution_count": 5,
   "outputs": [
    {
     "name": "stdout",
     "output_type": "stream",
     "text": [
      "Updated weight wj: [0.498      0.49866667 0.49616667]\n"
     ]
    }
   ],
   "source": [
    "def update_weight(wj, alpha, y_hat, y, xi):\n",
    "    n = y  # Assuming n is the number of training examples\n",
    "    gradient = (y_hat - y) * xi\n",
    "    updated_wj = wj - (alpha / n) * gradient\n",
    "    return updated_wj\n",
    "\n",
    "wj = 0.5  # Initial weight\n",
    "alpha = 0.01  # Learning rate\n",
    "y_hat = 0.7  # Predicted value\n",
    "y = 0.6  # Actual target value\n",
    "xi = np.array([1.2, 0.8, 2.3])  # Feature vector for the i-th example\n",
    "\n",
    "updated_wj = update_weight(wj, alpha, y_hat, y, xi)\n",
    "print(f\"Updated weight wj: {updated_wj}\")"
   ],
   "metadata": {
    "collapsed": false
   }
  },
  {
   "cell_type": "markdown",
   "source": [
    "## Formula №4 Mean Squared Error\n"
   ],
   "metadata": {
    "collapsed": false
   }
  },
  {
   "cell_type": "code",
   "execution_count": 6,
   "outputs": [
    {
     "name": "stdout",
     "output_type": "stream",
     "text": [
      "Mean Squared Error: 0.028000000000000032\n"
     ]
    }
   ],
   "source": [
    "def mean_squared_error(y_true, y_pred):\n",
    "    n = len(y_true)\n",
    "    squared_errors = (y_true - y_pred) ** 2\n",
    "    mse = (1/n) * np.sum(squared_errors)\n",
    "    return mse\n",
    "\n",
    "# Example usage:\n",
    "y_true = np.array([3.0, 4.0, 5.0, 6.0, 7.0])  # Actual target values\n",
    "y_pred = np.array([2.9, 4.2, 5.1, 5.8, 7.2])  # Predicted values\n",
    "\n",
    "mse = mean_squared_error(y_true, y_pred)\n",
    "print(f\"Mean Squared Error: {mse}\")"
   ],
   "metadata": {
    "collapsed": false
   }
  },
  {
   "cell_type": "markdown",
   "source": [
    "## Formula №5 Binary Cross Entropy"
   ],
   "metadata": {
    "collapsed": false
   }
  },
  {
   "cell_type": "code",
   "execution_count": 8,
   "outputs": [
    {
     "name": "stdout",
     "output_type": "stream",
     "text": [
      "Binary Cross-Entropy Loss: 0.2529995012327421\n"
     ]
    }
   ],
   "source": [
    "def binary_cross_entropy(y_true, y_pred):\n",
    "    n = len(y_true)\n",
    "    loss = - (1/n) * np.sum(y_true * np.log(y_pred) + (1 - y_true) * np.log(1 - y_pred))\n",
    "    return loss\n",
    "\n",
    "# Example usage:\n",
    "y_true = np.array([0, 1, 1, 0, 1])  # Actual binary labels (0 or 1)\n",
    "y_pred = np.array([0.2, 0.8, 0.9, 0.3, 0.7])  # Predicted probabilities\n",
    "\n",
    "loss = binary_cross_entropy(y_true, y_pred)\n",
    "print(f\"Binary Cross-Entropy Loss: {loss}\")"
   ],
   "metadata": {
    "collapsed": false
   }
  }
 ],
 "metadata": {
  "kernelspec": {
   "display_name": "Python 3",
   "language": "python",
   "name": "python3"
  },
  "language_info": {
   "codemirror_mode": {
    "name": "ipython",
    "version": 2
   },
   "file_extension": ".py",
   "mimetype": "text/x-python",
   "name": "python",
   "nbconvert_exporter": "python",
   "pygments_lexer": "ipython2",
   "version": "2.7.6"
  }
 },
 "nbformat": 4,
 "nbformat_minor": 0
}
