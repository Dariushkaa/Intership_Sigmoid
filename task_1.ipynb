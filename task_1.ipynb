{
 "cells": [
  {
   "cell_type": "code",
   "execution_count": 2,
   "metadata": {
    "collapsed": true
   },
   "outputs": [],
   "source": [
    "from abc import ABC, abstractmethod\n",
    "# Base class - Shape\n",
    "class Shape:\n",
    "    def __init__(self, name):\n",
    "        self._name = name\n",
    "        self._color = 'Unknown'\n",
    "        self.__is_filled = False\n",
    "\n",
    "    # Special function to represent the object as a string\n",
    "    def __str__(self):\n",
    "        return f\"Shape: {self._name}, Color: {self._color}, Filled: {self.__is_filled}\"\n",
    "\n",
    "    # Special function for equality comparison\n",
    "    def __eq__(self, other):\n",
    "        return self._name == other._name\n",
    "\n",
    "    # Special function to calculate the area (to be overridden by subclasses)\n",
    "    def area(self):\n",
    "        pass\n",
    "\n",
    "    # Public method to set the color\n",
    "    def set_color(self, color):\n",
    "        self._color = color\n",
    "\n",
    "    # Protected method to check if the shape is filled\n",
    "    def _is_filled(self):\n",
    "        return self.__is_filled\n",
    "\n",
    "    # Private method to mark the shape as filled\n",
    "    def __fill(self):\n",
    "        self.__is_filled = True\n",
    "\n",
    "# Subclass - Circle\n",
    "class Circle(Shape):\n",
    "    def __init__(self, name, radius):\n",
    "        super().__init__(name)\n",
    "        self._radius = radius\n",
    "\n",
    "    # Override the area method for circles\n",
    "    def area(self):\n",
    "        return 3.14 * self._radius * self._radius\n",
    "\n",
    "# Subclass - Rectangle\n",
    "class Rectangle(Shape):\n",
    "    def __init__(self, name, length, width):\n",
    "        super().__init__(name)\n",
    "        self._length = length\n",
    "        self._width = width\n",
    "\n",
    "    # Override the area method for rectangles\n",
    "    def area(self):\n",
    "        return self._length * self._width\n",
    "\n",
    "# Subclass - Triangle\n",
    "class Triangle(Shape):\n",
    "    def __init__(self, name, base, height):\n",
    "        super().__init__(name)\n",
    "        self._base = base\n",
    "        self._height = height\n",
    "\n",
    "    # Override the area method for triangles\n",
    "    def area(self):\n",
    "        return 0.5 * self._base * self._height\n",
    "\n",
    "# Abstract class - Polygon\n",
    "from abc import ABC, abstractmethod\n",
    "\n",
    "class Polygon(Shape, ABC):\n",
    "    def __init__(self, name, sides):\n",
    "        super().__init__(name)\n",
    "        self._sides = sides\n",
    "\n",
    "    # Abstract method to calculate the perimeter (must be implemented by subclasses)\n",
    "    @abstractmethod\n",
    "    def perimeter(self):\n",
    "        pass\n",
    "\n",
    "# Subclass of Polygon - Square\n",
    "class Square(Polygon):\n",
    "    def __init__(self, name, side_length):\n",
    "        super().__init__(name, sides=4)\n",
    "        self._side_length = side_length\n",
    "\n",
    "    # Override the perimeter method for squares\n",
    "    def perimeter(self):\n",
    "        return 4 * self._side_length\n"
   ]
  },
  {
   "cell_type": "code",
   "execution_count": 3,
   "outputs": [
    {
     "name": "stdout",
     "output_type": "stream",
     "text": [
      "Shape: Circle 1, Color: Blue, Filled: False\n",
      "Area: 78.5\n",
      "Shape: Rectangle 1, Color: Red, Filled: False\n",
      "Area: 24\n",
      "Shape: Triangle 1, Color: Green, Filled: False\n",
      "Area: 6.0\n",
      "Shape: Square 1, Color: Yellow, Filled: False\n",
      "Perimeter: 16\n"
     ]
    }
   ],
   "source": [
    "# Create objects of each type\n",
    "\n",
    "# Create a Circle object\n",
    "circle = Circle(\"Circle 1\", radius=5)\n",
    "circle.set_color(\"Blue\")\n",
    "print(circle)\n",
    "print(f\"Area: {circle.area()}\")\n",
    "\n",
    "# Create a Rectangle object\n",
    "rectangle = Rectangle(\"Rectangle 1\", length=4, width=6)\n",
    "rectangle.set_color(\"Red\")\n",
    "print(rectangle)\n",
    "print(f\"Area: {rectangle.area()}\")\n",
    "\n",
    "# Create a Triangle object\n",
    "triangle = Triangle(\"Triangle 1\", base=3, height=4)\n",
    "triangle.set_color(\"Green\")\n",
    "print(triangle)\n",
    "print(f\"Area: {triangle.area()}\")\n",
    "\n",
    "# Create a Square object\n",
    "square = Square(\"Square 1\", side_length=4)\n",
    "square.set_color(\"Yellow\")\n",
    "print(square)\n",
    "print(f\"Perimeter: {square.perimeter()}\")\n"
   ],
   "metadata": {
    "collapsed": false
   }
  },
  {
   "cell_type": "markdown",
   "source": [
    "Each object has a different type: Circle, Rectangle, Triangle, and Square.\n",
    "They are created with specific properties, such as name, dimensions, and color.\n",
    "They have different methods for calculating their area or perimeter (area for Circle, Rectangle, and Triangle; perimeter for Square).\n",
    "The output includes the shape's name, color, and whether it's filled (all shapes are not filled in this example), along with their specific properties (area or perimeter)."
   ],
   "metadata": {
    "collapsed": false
   }
  },
  {
   "cell_type": "code",
   "execution_count": 7,
   "outputs": [],
   "source": [
    "circle = Circle(\"Circle 1\", radius=5)\n",
    "circle.set_color(\"Blue\")"
   ],
   "metadata": {
    "collapsed": false
   }
  },
  {
   "cell_type": "code",
   "execution_count": 8,
   "outputs": [],
   "source": [
    "rectangle = Rectangle(\"Rectangle 1\", length=4, width=6)\n",
    "rectangle.set_color(\"Red\")\n"
   ],
   "metadata": {
    "collapsed": false
   }
  },
  {
   "cell_type": "code",
   "execution_count": 9,
   "outputs": [],
   "source": [
    "triangle = Triangle(\"Triangle 1\", base=3, height=4)\n",
    "triangle.set_color(\"Green\")\n"
   ],
   "metadata": {
    "collapsed": false
   }
  },
  {
   "cell_type": "code",
   "execution_count": 10,
   "outputs": [],
   "source": [
    "square = Square(\"Square 1\", side_length=4)\n",
    "square.set_color(\"Yellow\")"
   ],
   "metadata": {
    "collapsed": false
   }
  }
 ],
 "metadata": {
  "kernelspec": {
   "display_name": "Python 3",
   "language": "python",
   "name": "python3"
  },
  "language_info": {
   "codemirror_mode": {
    "name": "ipython",
    "version": 2
   },
   "file_extension": ".py",
   "mimetype": "text/x-python",
   "name": "python",
   "nbconvert_exporter": "python",
   "pygments_lexer": "ipython2",
   "version": "2.7.6"
  }
 },
 "nbformat": 4,
 "nbformat_minor": 0
}
