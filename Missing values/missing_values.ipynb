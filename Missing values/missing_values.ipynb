{
 "cells": [
  {
   "cell_type": "code",
   "execution_count": 1,
   "metadata": {
    "collapsed": true
   },
   "outputs": [],
   "source": [
    "import math\n",
    "import pandas as pd\n",
    "import numpy as np\n",
    "import seaborn as sns\n",
    "import sklearn as skl\n",
    "from sklearn.linear_model import LogisticRegression\n",
    "from sklearn.naive_bayes import GaussianNB\n",
    "from sklearn.tree import DecisionTreeClassifier, DecisionTreeRegressor\n",
    "from sklearn.ensemble import RandomForestClassifier, RandomForestRegressor\n",
    "from sklearn.model_selection import train_test_split\n",
    "from sklearn.metrics import accuracy_score, mean_squared_error\n",
    "from sklearn.impute import SimpleImputer\n",
    "import matplotlib.pyplot as plt\n",
    "# from reparo import CDI, FRNNI, HotDeckImputation, KNNImputer, PMM, SICE, MICE\n"
   ]
  },
  {
   "cell_type": "code",
   "execution_count": 14,
   "outputs": [
    {
     "name": "stdout",
     "output_type": "stream",
     "text": [
      "<class 'pandas.core.frame.DataFrame'>\n",
      "RangeIndex: 400 entries, 0 to 399\n",
      "Data columns (total 26 columns):\n",
      " #   Column          Non-Null Count  Dtype  \n",
      "---  ------          --------------  -----  \n",
      " 0   id              400 non-null    int64  \n",
      " 1   age             391 non-null    float64\n",
      " 2   bp              388 non-null    float64\n",
      " 3   sg              353 non-null    float64\n",
      " 4   al              354 non-null    float64\n",
      " 5   su              351 non-null    float64\n",
      " 6   rbc             248 non-null    object \n",
      " 7   pc              335 non-null    object \n",
      " 8   pcc             396 non-null    object \n",
      " 9   ba              396 non-null    object \n",
      " 10  bgr             356 non-null    float64\n",
      " 11  bu              381 non-null    float64\n",
      " 12  sc              383 non-null    float64\n",
      " 13  sod             313 non-null    float64\n",
      " 14  pot             312 non-null    float64\n",
      " 15  hemo            348 non-null    float64\n",
      " 16  pcv             330 non-null    object \n",
      " 17  wc              295 non-null    object \n",
      " 18  rc              270 non-null    object \n",
      " 19  htn             398 non-null    object \n",
      " 20  dm              398 non-null    object \n",
      " 21  cad             398 non-null    object \n",
      " 22  appet           399 non-null    object \n",
      " 23  pe              399 non-null    object \n",
      " 24  ane             399 non-null    object \n",
      " 25  classification  400 non-null    object \n",
      "dtypes: float64(11), int64(1), object(14)\n",
      "memory usage: 81.4+ KB\n"
     ]
    }
   ],
   "source": [
    "df = pd.read_csv('kidney_disease.csv')\n",
    "df.info()\n",
    "missing_values = df.isnull().sum()\n"
   ],
   "metadata": {
    "collapsed": false
   }
  },
  {
   "cell_type": "code",
   "execution_count": 16,
   "outputs": [
    {
     "data": {
      "text/plain": "   id   age  blood_pressure  specific_gravity  albumin  sugar red_blood_cells  \\\n0   0  48.0            80.0             1.020      1.0    0.0             NaN   \n1   1   7.0            50.0             1.020      4.0    0.0             NaN   \n2   2  62.0            80.0             1.010      2.0    3.0          normal   \n3   3  48.0            70.0             1.005      4.0    0.0          normal   \n4   4  51.0            80.0             1.010      2.0    0.0          normal   \n\n   pus_cell pus_cell_clumps    bacteria  ...  packed_cell_volume  \\\n0    normal      notpresent  notpresent  ...                  44   \n1    normal      notpresent  notpresent  ...                  38   \n2    normal      notpresent  notpresent  ...                  31   \n3  abnormal         present  notpresent  ...                  32   \n4    normal      notpresent  notpresent  ...                  35   \n\n   white_blood_cell_count  red_blood_cell_count  hypertension  \\\n0                    7800                   5.2           yes   \n1                    6000                   NaN            no   \n2                    7500                   NaN            no   \n3                    6700                   3.9           yes   \n4                    7300                   4.6            no   \n\n   diabetes_mellitus  coronary_artery_disease appetite peda_edema aanemia  \\\n0                yes                       no     good         no      no   \n1                 no                       no     good         no      no   \n2                yes                       no     poor         no     yes   \n3                 no                       no     poor        yes     yes   \n4                 no                       no     good         no      no   \n\n  class  \n0   ckd  \n1   ckd  \n2   ckd  \n3   ckd  \n4   ckd  \n\n[5 rows x 26 columns]",
      "text/html": "<div>\n<style scoped>\n    .dataframe tbody tr th:only-of-type {\n        vertical-align: middle;\n    }\n\n    .dataframe tbody tr th {\n        vertical-align: top;\n    }\n\n    .dataframe thead th {\n        text-align: right;\n    }\n</style>\n<table border=\"1\" class=\"dataframe\">\n  <thead>\n    <tr style=\"text-align: right;\">\n      <th></th>\n      <th>id</th>\n      <th>age</th>\n      <th>blood_pressure</th>\n      <th>specific_gravity</th>\n      <th>albumin</th>\n      <th>sugar</th>\n      <th>red_blood_cells</th>\n      <th>pus_cell</th>\n      <th>pus_cell_clumps</th>\n      <th>bacteria</th>\n      <th>...</th>\n      <th>packed_cell_volume</th>\n      <th>white_blood_cell_count</th>\n      <th>red_blood_cell_count</th>\n      <th>hypertension</th>\n      <th>diabetes_mellitus</th>\n      <th>coronary_artery_disease</th>\n      <th>appetite</th>\n      <th>peda_edema</th>\n      <th>aanemia</th>\n      <th>class</th>\n    </tr>\n  </thead>\n  <tbody>\n    <tr>\n      <th>0</th>\n      <td>0</td>\n      <td>48.0</td>\n      <td>80.0</td>\n      <td>1.020</td>\n      <td>1.0</td>\n      <td>0.0</td>\n      <td>NaN</td>\n      <td>normal</td>\n      <td>notpresent</td>\n      <td>notpresent</td>\n      <td>...</td>\n      <td>44</td>\n      <td>7800</td>\n      <td>5.2</td>\n      <td>yes</td>\n      <td>yes</td>\n      <td>no</td>\n      <td>good</td>\n      <td>no</td>\n      <td>no</td>\n      <td>ckd</td>\n    </tr>\n    <tr>\n      <th>1</th>\n      <td>1</td>\n      <td>7.0</td>\n      <td>50.0</td>\n      <td>1.020</td>\n      <td>4.0</td>\n      <td>0.0</td>\n      <td>NaN</td>\n      <td>normal</td>\n      <td>notpresent</td>\n      <td>notpresent</td>\n      <td>...</td>\n      <td>38</td>\n      <td>6000</td>\n      <td>NaN</td>\n      <td>no</td>\n      <td>no</td>\n      <td>no</td>\n      <td>good</td>\n      <td>no</td>\n      <td>no</td>\n      <td>ckd</td>\n    </tr>\n    <tr>\n      <th>2</th>\n      <td>2</td>\n      <td>62.0</td>\n      <td>80.0</td>\n      <td>1.010</td>\n      <td>2.0</td>\n      <td>3.0</td>\n      <td>normal</td>\n      <td>normal</td>\n      <td>notpresent</td>\n      <td>notpresent</td>\n      <td>...</td>\n      <td>31</td>\n      <td>7500</td>\n      <td>NaN</td>\n      <td>no</td>\n      <td>yes</td>\n      <td>no</td>\n      <td>poor</td>\n      <td>no</td>\n      <td>yes</td>\n      <td>ckd</td>\n    </tr>\n    <tr>\n      <th>3</th>\n      <td>3</td>\n      <td>48.0</td>\n      <td>70.0</td>\n      <td>1.005</td>\n      <td>4.0</td>\n      <td>0.0</td>\n      <td>normal</td>\n      <td>abnormal</td>\n      <td>present</td>\n      <td>notpresent</td>\n      <td>...</td>\n      <td>32</td>\n      <td>6700</td>\n      <td>3.9</td>\n      <td>yes</td>\n      <td>no</td>\n      <td>no</td>\n      <td>poor</td>\n      <td>yes</td>\n      <td>yes</td>\n      <td>ckd</td>\n    </tr>\n    <tr>\n      <th>4</th>\n      <td>4</td>\n      <td>51.0</td>\n      <td>80.0</td>\n      <td>1.010</td>\n      <td>2.0</td>\n      <td>0.0</td>\n      <td>normal</td>\n      <td>normal</td>\n      <td>notpresent</td>\n      <td>notpresent</td>\n      <td>...</td>\n      <td>35</td>\n      <td>7300</td>\n      <td>4.6</td>\n      <td>no</td>\n      <td>no</td>\n      <td>no</td>\n      <td>good</td>\n      <td>no</td>\n      <td>no</td>\n      <td>ckd</td>\n    </tr>\n  </tbody>\n</table>\n<p>5 rows × 26 columns</p>\n</div>"
     },
     "execution_count": 16,
     "metadata": {},
     "output_type": "execute_result"
    }
   ],
   "source": [
    "full_name_columns = ['id','age', 'blood_pressure', 'specific_gravity', 'albumin', 'sugar', 'red_blood_cells', 'pus_cell',\n",
    "              'pus_cell_clumps', 'bacteria', 'blood_glucose_random', 'blood_urea', 'serum_creatinine', 'sodium',\n",
    "              'potassium', 'haemoglobin', 'packed_cell_volume', 'white_blood_cell_count', 'red_blood_cell_count',\n",
    "              'hypertension', 'diabetes_mellitus', 'coronary_artery_disease', 'appetite', 'peda_edema',\n",
    "              'aanemia', 'class']\n",
    "\n",
    "df.columns = full_name_columns\n",
    "df.head()"
   ],
   "metadata": {
    "collapsed": false
   }
  },
  {
   "cell_type": "code",
   "execution_count": 17,
   "outputs": [
    {
     "data": {
      "text/plain": "<Figure size 1000x600 with 1 Axes>",
      "image/png": "[encoded data removed]"
     },
     "metadata": {},
     "output_type": "display_data"
    }
   ],
   "source": [
    "missing_values.plot(kind='bar', figsize=(10, 6), color='skyblue')\n",
    "plt.title('Number of Missing Values in Each Column')\n",
    "plt.xlabel('Columns')\n",
    "plt.ylabel('Number of Missing Values')\n",
    "plt.show()"
   ],
   "metadata": {
    "collapsed": false
   }
  },
  {
   "cell_type": "code",
   "execution_count": 35,
   "outputs": [],
   "source": [
    "from sklearn.preprocessing import LabelEncoder\n",
    "# Список категориальных признаков\n",
    "categorical_features = df.select_dtypes(include=['object']).columns.tolist()\n",
    "\n",
    "# Преобразование категориальных признаков в числовую форму и замена значений в DataFrame\n",
    "label_encoder = LabelEncoder()\n",
    "for feature in categorical_features:\n",
    "    df[feature] = label_encoder.fit_transform(df[feature])"
   ],
   "metadata": {
    "collapsed": false
   }
  },
  {
   "cell_type": "code",
   "execution_count": 36,
   "outputs": [
    {
     "data": {
      "text/plain": "   id   age  blood_pressure  specific_gravity  albumin  sugar  \\\n0   0  48.0            80.0             1.020      1.0    0.0   \n1   1   7.0            50.0             1.020      4.0    0.0   \n2   2  62.0            80.0             1.010      2.0    3.0   \n3   3  48.0            70.0             1.005      4.0    0.0   \n4   4  51.0            80.0             1.010      2.0    0.0   \n\n   red_blood_cells  pus_cell  pus_cell_clumps  bacteria  ...  \\\n0                2         1                0         0  ...   \n1                2         1                0         0  ...   \n2                1         1                0         0  ...   \n3                1         0                1         0  ...   \n4                1         1                0         0  ...   \n\n   packed_cell_volume  white_blood_cell_count  red_blood_cell_count  \\\n0                  32                      72                    34   \n1                  26                      56                    49   \n2                  19                      70                    49   \n3                  20                      62                    19   \n4                  23                      68                    27   \n\n   hypertension  diabetes_mellitus  coronary_artery_disease  appetite  \\\n0             1                  4                        1         0   \n1             0                  3                        1         0   \n2             0                  4                        1         1   \n3             1                  3                        1         1   \n4             0                  3                        1         0   \n\n   peda_edema  aanemia  class  \n0           0        0      0  \n1           0        0      0  \n2           0        1      0  \n3           1        1      0  \n4           0        0      0  \n\n[5 rows x 26 columns]",
      "text/html": "<div>\n<style scoped>\n    .dataframe tbody tr th:only-of-type {\n        vertical-align: middle;\n    }\n\n    .dataframe tbody tr th {\n        vertical-align: top;\n    }\n\n    .dataframe thead th {\n        text-align: right;\n    }\n</style>\n<table border=\"1\" class=\"dataframe\">\n  <thead>\n    <tr style=\"text-align: right;\">\n      <th></th>\n      <th>id</th>\n      <th>age</th>\n      <th>blood_pressure</th>\n      <th>specific_gravity</th>\n      <th>albumin</th>\n      <th>sugar</th>\n      <th>red_blood_cells</th>\n      <th>pus_cell</th>\n      <th>pus_cell_clumps</th>\n      <th>bacteria</th>\n      <th>...</th>\n      <th>packed_cell_volume</th>\n      <th>white_blood_cell_count</th>\n      <th>red_blood_cell_count</th>\n      <th>hypertension</th>\n      <th>diabetes_mellitus</th>\n      <th>coronary_artery_disease</th>\n      <th>appetite</th>\n      <th>peda_edema</th>\n      <th>aanemia</th>\n      <th>class</th>\n    </tr>\n  </thead>\n  <tbody>\n    <tr>\n      <th>0</th>\n      <td>0</td>\n      <td>48.0</td>\n      <td>80.0</td>\n      <td>1.020</td>\n      <td>1.0</td>\n      <td>0.0</td>\n      <td>2</td>\n      <td>1</td>\n      <td>0</td>\n      <td>0</td>\n      <td>...</td>\n      <td>32</td>\n      <td>72</td>\n      <td>34</td>\n      <td>1</td>\n      <td>4</td>\n      <td>1</td>\n      <td>0</td>\n      <td>0</td>\n      <td>0</td>\n      <td>0</td>\n    </tr>\n    <tr>\n      <th>1</th>\n      <td>1</td>\n      <td>7.0</td>\n      <td>50.0</td>\n      <td>1.020</td>\n      <td>4.0</td>\n      <td>0.0</td>\n      <td>2</td>\n      <td>1</td>\n      <td>0</td>\n      <td>0</td>\n      <td>...</td>\n      <td>26</td>\n      <td>56</td>\n      <td>49</td>\n      <td>0</td>\n      <td>3</td>\n      <td>1</td>\n      <td>0</td>\n      <td>0</td>\n      <td>0</td>\n      <td>0</td>\n    </tr>\n    <tr>\n      <th>2</th>\n      <td>2</td>\n      <td>62.0</td>\n      <td>80.0</td>\n      <td>1.010</td>\n      <td>2.0</td>\n      <td>3.0</td>\n      <td>1</td>\n      <td>1</td>\n      <td>0</td>\n      <td>0</td>\n      <td>...</td>\n      <td>19</td>\n      <td>70</td>\n      <td>49</td>\n      <td>0</td>\n      <td>4</td>\n      <td>1</td>\n      <td>1</td>\n      <td>0</td>\n      <td>1</td>\n      <td>0</td>\n    </tr>\n    <tr>\n      <th>3</th>\n      <td>3</td>\n      <td>48.0</td>\n      <td>70.0</td>\n      <td>1.005</td>\n      <td>4.0</td>\n      <td>0.0</td>\n      <td>1</td>\n      <td>0</td>\n      <td>1</td>\n      <td>0</td>\n      <td>...</td>\n      <td>20</td>\n      <td>62</td>\n      <td>19</td>\n      <td>1</td>\n      <td>3</td>\n      <td>1</td>\n      <td>1</td>\n      <td>1</td>\n      <td>1</td>\n      <td>0</td>\n    </tr>\n    <tr>\n      <th>4</th>\n      <td>4</td>\n      <td>51.0</td>\n      <td>80.0</td>\n      <td>1.010</td>\n      <td>2.0</td>\n      <td>0.0</td>\n      <td>1</td>\n      <td>1</td>\n      <td>0</td>\n      <td>0</td>\n      <td>...</td>\n      <td>23</td>\n      <td>68</td>\n      <td>27</td>\n      <td>0</td>\n      <td>3</td>\n      <td>1</td>\n      <td>0</td>\n      <td>0</td>\n      <td>0</td>\n      <td>0</td>\n    </tr>\n  </tbody>\n</table>\n<p>5 rows × 26 columns</p>\n</div>"
     },
     "execution_count": 36,
     "metadata": {},
     "output_type": "execute_result"
    }
   ],
   "source": [
    "df.head()"
   ],
   "metadata": {
    "collapsed": false
   }
  },
  {
   "cell_type": "code",
   "execution_count": 37,
   "outputs": [
    {
     "data": {
      "text/plain": "                         count        mean         std     min     25%  \\\nid                       400.0  199.500000  115.614301   0.000   99.75   \nage                      391.0   51.483376   17.169714   2.000   42.00   \nblood_pressure           388.0   76.469072   13.683637  50.000   70.00   \nspecific_gravity         353.0    1.017408    0.005717   1.005    1.01   \nalbumin                  354.0    1.016949    1.352679   0.000    0.00   \nsugar                    351.0    0.450142    1.099191   0.000    0.00   \nred_blood_cells          400.0    1.262500    0.655491   0.000    1.00   \npus_cell                 400.0    0.972500    0.593823   0.000    1.00   \npus_cell_clumps          400.0    0.125000    0.360138   0.000    0.00   \nbacteria                 400.0    0.075000    0.299331   0.000    0.00   \nblood_glucose_random     356.0  148.036517   79.281714  22.000   99.00   \nblood_urea               381.0   57.425722   50.503006   1.500   27.00   \nserum_creatinine         383.0    3.072454    5.741126   0.400    0.90   \nsodium                   313.0  137.528754   10.408752   4.500  135.00   \npotassium                312.0    4.627244    3.193904   2.500    3.80   \nhaemoglobin              348.0   12.526437    2.912587   3.100   10.30   \npacked_cell_volume       400.0   29.852500   10.529145   0.000   22.00   \nwhite_blood_cell_count   400.0   64.430000   28.149620   0.000   49.00   \nred_blood_cell_count     400.0   34.837500   13.397381   0.000   26.00   \nhypertension             400.0    0.377500    0.495588   0.000    0.00   \ndiabetes_mellitus        400.0    3.310000    0.591417   0.000    3.00   \ncoronary_artery_disease  400.0    1.090000    0.319618   0.000    1.00   \nappetite                 400.0    0.210000    0.413918   0.000    0.00   \npeda_edema               400.0    0.195000    0.402965   0.000    0.00   \naanemia                  400.0    0.155000    0.369210   0.000    0.00   \nclass                    400.0    0.755000    0.968152   0.000    0.00   \n\n                            50%     75%      max  \nid                       199.50  299.25  399.000  \nage                       55.00   64.50   90.000  \nblood_pressure            80.00   80.00  180.000  \nspecific_gravity           1.02    1.02    1.025  \nalbumin                    0.00    2.00    5.000  \nsugar                      0.00    0.00    5.000  \nred_blood_cells            1.00    2.00    2.000  \npus_cell                   1.00    1.00    2.000  \npus_cell_clumps            0.00    0.00    2.000  \nbacteria                   0.00    0.00    2.000  \nblood_glucose_random     121.00  163.00  490.000  \nblood_urea                42.00   66.00  391.000  \nserum_creatinine           1.30    2.80   76.000  \nsodium                   138.00  142.00  163.000  \npotassium                  4.40    4.90   47.000  \nhaemoglobin               12.65   15.00   17.800  \npacked_cell_volume        30.00   39.25   44.000  \nwhite_blood_cell_count    71.00   92.00   92.000  \nred_blood_cell_count      36.00   49.00   49.000  \nhypertension               0.00    1.00    2.000  \ndiabetes_mellitus          3.00    4.00    5.000  \ncoronary_artery_disease    1.00    1.00    3.000  \nappetite                   0.00    0.00    2.000  \npeda_edema                 0.00    0.00    2.000  \naanemia                    0.00    0.00    2.000  \nclass                      0.00    2.00    2.000  ",
      "text/html": "<div>\n<style scoped>\n    .dataframe tbody tr th:only-of-type {\n        vertical-align: middle;\n    }\n\n    .dataframe tbody tr th {\n        vertical-align: top;\n    }\n\n    .dataframe thead th {\n        text-align: right;\n    }\n</style>\n<table border=\"1\" class=\"dataframe\">\n  <thead>\n    <tr style=\"text-align: right;\">\n      <th></th>\n      <th>count</th>\n      <th>mean</th>\n      <th>std</th>\n      <th>min</th>\n      <th>25%</th>\n      <th>50%</th>\n      <th>75%</th>\n      <th>max</th>\n    </tr>\n  </thead>\n  <tbody>\n    <tr>\n      <th>id</th>\n      <td>400.0</td>\n      <td>199.500000</td>\n      <td>115.614301</td>\n      <td>0.000</td>\n      <td>99.75</td>\n      <td>199.50</td>\n      <td>299.25</td>\n      <td>399.000</td>\n    </tr>\n    <tr>\n      <th>age</th>\n      <td>391.0</td>\n      <td>51.483376</td>\n      <td>17.169714</td>\n      <td>2.000</td>\n      <td>42.00</td>\n      <td>55.00</td>\n      <td>64.50</td>\n      <td>90.000</td>\n    </tr>\n    <tr>\n      <th>blood_pressure</th>\n      <td>388.0</td>\n      <td>76.469072</td>\n      <td>13.683637</td>\n      <td>50.000</td>\n      <td>70.00</td>\n      <td>80.00</td>\n      <td>80.00</td>\n      <td>180.000</td>\n    </tr>\n    <tr>\n      <th>specific_gravity</th>\n      <td>353.0</td>\n      <td>1.017408</td>\n      <td>0.005717</td>\n      <td>1.005</td>\n      <td>1.01</td>\n      <td>1.02</td>\n      <td>1.02</td>\n      <td>1.025</td>\n    </tr>\n    <tr>\n      <th>albumin</th>\n      <td>354.0</td>\n      <td>1.016949</td>\n      <td>1.352679</td>\n      <td>0.000</td>\n      <td>0.00</td>\n      <td>0.00</td>\n      <td>2.00</td>\n      <td>5.000</td>\n    </tr>\n    <tr>\n      <th>sugar</th>\n      <td>351.0</td>\n      <td>0.450142</td>\n      <td>1.099191</td>\n      <td>0.000</td>\n      <td>0.00</td>\n      <td>0.00</td>\n      <td>0.00</td>\n      <td>5.000</td>\n    </tr>\n    <tr>\n      <th>red_blood_cells</th>\n      <td>400.0</td>\n      <td>1.262500</td>\n      <td>0.655491</td>\n      <td>0.000</td>\n      <td>1.00</td>\n      <td>1.00</td>\n      <td>2.00</td>\n      <td>2.000</td>\n    </tr>\n    <tr>\n      <th>pus_cell</th>\n      <td>400.0</td>\n      <td>0.972500</td>\n      <td>0.593823</td>\n      <td>0.000</td>\n      <td>1.00</td>\n      <td>1.00</td>\n      <td>1.00</td>\n      <td>2.000</td>\n    </tr>\n    <tr>\n      <th>pus_cell_clumps</th>\n      <td>400.0</td>\n      <td>0.125000</td>\n      <td>0.360138</td>\n      <td>0.000</td>\n      <td>0.00</td>\n      <td>0.00</td>\n      <td>0.00</td>\n      <td>2.000</td>\n    </tr>\n    <tr>\n      <th>bacteria</th>\n      <td>400.0</td>\n      <td>0.075000</td>\n      <td>0.299331</td>\n      <td>0.000</td>\n      <td>0.00</td>\n      <td>0.00</td>\n      <td>0.00</td>\n      <td>2.000</td>\n    </tr>\n    <tr>\n      <th>blood_glucose_random</th>\n      <td>356.0</td>\n      <td>148.036517</td>\n      <td>79.281714</td>\n      <td>22.000</td>\n      <td>99.00</td>\n      <td>121.00</td>\n      <td>163.00</td>\n      <td>490.000</td>\n    </tr>\n    <tr>\n      <th>blood_urea</th>\n      <td>381.0</td>\n      <td>57.425722</td>\n      <td>50.503006</td>\n      <td>1.500</td>\n      <td>27.00</td>\n      <td>42.00</td>\n      <td>66.00</td>\n      <td>391.000</td>\n    </tr>\n    <tr>\n      <th>serum_creatinine</th>\n      <td>383.0</td>\n      <td>3.072454</td>\n      <td>5.741126</td>\n      <td>0.400</td>\n      <td>0.90</td>\n      <td>1.30</td>\n      <td>2.80</td>\n      <td>76.000</td>\n    </tr>\n    <tr>\n      <th>sodium</th>\n      <td>313.0</td>\n      <td>137.528754</td>\n      <td>10.408752</td>\n      <td>4.500</td>\n      <td>135.00</td>\n      <td>138.00</td>\n      <td>142.00</td>\n      <td>163.000</td>\n    </tr>\n    <tr>\n      <th>potassium</th>\n      <td>312.0</td>\n      <td>4.627244</td>\n      <td>3.193904</td>\n      <td>2.500</td>\n      <td>3.80</td>\n      <td>4.40</td>\n      <td>4.90</td>\n      <td>47.000</td>\n    </tr>\n    <tr>\n      <th>haemoglobin</th>\n      <td>348.0</td>\n      <td>12.526437</td>\n      <td>2.912587</td>\n      <td>3.100</td>\n      <td>10.30</td>\n      <td>12.65</td>\n      <td>15.00</td>\n      <td>17.800</td>\n    </tr>\n    <tr>\n      <th>packed_cell_volume</th>\n      <td>400.0</td>\n      <td>29.852500</td>\n      <td>10.529145</td>\n      <td>0.000</td>\n      <td>22.00</td>\n      <td>30.00</td>\n      <td>39.25</td>\n      <td>44.000</td>\n    </tr>\n    <tr>\n      <th>white_blood_cell_count</th>\n      <td>400.0</td>\n      <td>64.430000</td>\n      <td>28.149620</td>\n      <td>0.000</td>\n      <td>49.00</td>\n      <td>71.00</td>\n      <td>92.00</td>\n      <td>92.000</td>\n    </tr>\n    <tr>\n      <th>red_blood_cell_count</th>\n      <td>400.0</td>\n      <td>34.837500</td>\n      <td>13.397381</td>\n      <td>0.000</td>\n      <td>26.00</td>\n      <td>36.00</td>\n      <td>49.00</td>\n      <td>49.000</td>\n    </tr>\n    <tr>\n      <th>hypertension</th>\n      <td>400.0</td>\n      <td>0.377500</td>\n      <td>0.495588</td>\n      <td>0.000</td>\n      <td>0.00</td>\n      <td>0.00</td>\n      <td>1.00</td>\n      <td>2.000</td>\n    </tr>\n    <tr>\n      <th>diabetes_mellitus</th>\n      <td>400.0</td>\n      <td>3.310000</td>\n      <td>0.591417</td>\n      <td>0.000</td>\n      <td>3.00</td>\n      <td>3.00</td>\n      <td>4.00</td>\n      <td>5.000</td>\n    </tr>\n    <tr>\n      <th>coronary_artery_disease</th>\n      <td>400.0</td>\n      <td>1.090000</td>\n      <td>0.319618</td>\n      <td>0.000</td>\n      <td>1.00</td>\n      <td>1.00</td>\n      <td>1.00</td>\n      <td>3.000</td>\n    </tr>\n    <tr>\n      <th>appetite</th>\n      <td>400.0</td>\n      <td>0.210000</td>\n      <td>0.413918</td>\n      <td>0.000</td>\n      <td>0.00</td>\n      <td>0.00</td>\n      <td>0.00</td>\n      <td>2.000</td>\n    </tr>\n    <tr>\n      <th>peda_edema</th>\n      <td>400.0</td>\n      <td>0.195000</td>\n      <td>0.402965</td>\n      <td>0.000</td>\n      <td>0.00</td>\n      <td>0.00</td>\n      <td>0.00</td>\n      <td>2.000</td>\n    </tr>\n    <tr>\n      <th>aanemia</th>\n      <td>400.0</td>\n      <td>0.155000</td>\n      <td>0.369210</td>\n      <td>0.000</td>\n      <td>0.00</td>\n      <td>0.00</td>\n      <td>0.00</td>\n      <td>2.000</td>\n    </tr>\n    <tr>\n      <th>class</th>\n      <td>400.0</td>\n      <td>0.755000</td>\n      <td>0.968152</td>\n      <td>0.000</td>\n      <td>0.00</td>\n      <td>0.00</td>\n      <td>2.00</td>\n      <td>2.000</td>\n    </tr>\n  </tbody>\n</table>\n</div>"
     },
     "execution_count": 37,
     "metadata": {},
     "output_type": "execute_result"
    }
   ],
   "source": [
    "df.describe().T"
   ],
   "metadata": {
    "collapsed": false
   }
  },
  {
   "cell_type": "code",
   "execution_count": 38,
   "outputs": [],
   "source": [
    "# Split the Data Set into the train and test sets\n",
    "\n",
    "X = df.drop(['class'], axis=1)\n",
    "y = df['class']\n",
    "X_train, X_test, y_train, y_test = train_test_split(X, y, test_size=0.3, random_state=42)"
   ],
   "metadata": {
    "collapsed": false
   }
  },
  {
   "cell_type": "markdown",
   "source": [],
   "metadata": {
    "collapsed": false
   }
  },
  {
   "cell_type": "code",
   "execution_count": 27,
   "outputs": [],
   "source": [
    "from reparo import CDI, FRNNI, HotDeckImputation, KNNImputer, PMM, SICE, MICE"
   ],
   "metadata": {
    "collapsed": false
   }
  },
  {
   "cell_type": "code",
   "execution_count": 28,
   "outputs": [],
   "source": [
    "#Create an instance of the SimpleImputer with the strategy\n",
    "imputer_mean = SimpleImputer(strategy='mean')\n",
    "imputer_median = SimpleImputer(strategy='median')\n",
    "imputer_most_frequent = SimpleImputer(strategy='most_frequent')\n",
    "imputer_constant = SimpleImputer(strategy='constant', fill_value=0)"
   ],
   "metadata": {
    "collapsed": false
   }
  },
  {
   "cell_type": "code",
   "execution_count": 29,
   "outputs": [],
   "source": [
    "# Create instances of imputation algorithms\n",
    "cdi_imputer = CDI()\n",
    "frnni_imputer = FRNNI()\n",
    "hotdeck_imputer = HotDeckImputation()\n",
    "knn_imputer = KNNImputer()\n",
    "pmm_imputer = PMM()\n",
    "sice_imputer = SICE()\n",
    "mice_imputer = MICE()"
   ],
   "metadata": {
    "collapsed": false
   }
  },
  {
   "cell_type": "code",
   "execution_count": 44,
   "outputs": [],
   "source": [
    "from sklearn.preprocessing import StandardScaler\n",
    "scaler = StandardScaler()\n",
    "X_train_scaled = scaler.fit_transform(X_train)\n",
    "X_test_scaled = scaler.transform(X_test)"
   ],
   "metadata": {
    "collapsed": false
   }
  },
  {
   "cell_type": "code",
   "execution_count": 55,
   "outputs": [
    {
     "name": "stderr",
     "output_type": "stream",
     "text": [
      "c:\\users\\jija0\\appdata\\local\\programs\\python\\python39\\lib\\site-packages\\reparo\\PMM.py:80: RuntimeWarning: covariance is not symmetric positive-semidefinite.\n",
      "  beta_zviozdacika = np.random.multivariate_normal(\n"
     ]
    },
    {
     "name": "stdout",
     "output_type": "stream",
     "text": [
      "   Imputation Algorithm    Prediction Algorithm  Accuracy\n",
      "0         SimpleImputer      LogisticRegression  0.991667\n",
      "1         SimpleImputer              GaussianNB  0.908333\n",
      "2         SimpleImputer  DecisionTreeClassifier  0.983333\n",
      "3         SimpleImputer      LogisticRegression  0.991667\n",
      "4         SimpleImputer              GaussianNB  0.900000\n",
      "5         SimpleImputer  DecisionTreeClassifier  0.966667\n",
      "6         SimpleImputer      LogisticRegression  0.983333\n",
      "7         SimpleImputer              GaussianNB  0.900000\n",
      "8         SimpleImputer  DecisionTreeClassifier  0.991667\n",
      "9         SimpleImputer      LogisticRegression  0.991667\n",
      "10        SimpleImputer              GaussianNB  0.908333\n",
      "11        SimpleImputer  DecisionTreeClassifier  0.983333\n",
      "12                  CDI      LogisticRegression  0.991667\n",
      "13                  CDI              GaussianNB  0.908333\n",
      "14                  CDI  DecisionTreeClassifier  0.983333\n",
      "15                FRNNI      LogisticRegression  0.991667\n",
      "16                FRNNI              GaussianNB  0.908333\n",
      "17                FRNNI  DecisionTreeClassifier  0.991667\n",
      "18    HotDeckImputation      LogisticRegression  0.983333\n",
      "19    HotDeckImputation              GaussianNB  0.900000\n",
      "20    HotDeckImputation  DecisionTreeClassifier  0.991667\n",
      "21           KNNImputer      LogisticRegression  0.991667\n",
      "22           KNNImputer              GaussianNB  0.916667\n",
      "23           KNNImputer  DecisionTreeClassifier  0.991667\n",
      "24                  PMM      LogisticRegression  0.991667\n",
      "25                  PMM              GaussianNB  0.925000\n",
      "26                  PMM  DecisionTreeClassifier  0.983333\n",
      "27                 SICE      LogisticRegression  0.991667\n",
      "28                 SICE              GaussianNB  0.908333\n",
      "29                 SICE  DecisionTreeClassifier  0.991667\n",
      "30                 MICE      LogisticRegression  0.991667\n",
      "31                 MICE              GaussianNB  0.925000\n",
      "32                 MICE  DecisionTreeClassifier  0.958333\n"
     ]
    }
   ],
   "source": [
    "imputers = [imputer_mean, imputer_median, imputer_most_frequent, imputer_constant,\n",
    "            cdi_imputer, frnni_imputer, hotdeck_imputer, knn_imputer,\n",
    "            pmm_imputer, sice_imputer, mice_imputer]\n",
    "\n",
    "# List of prediction algorithms\n",
    "models = [\n",
    "    LogisticRegression(),\n",
    "    GaussianNB(),\n",
    "    DecisionTreeClassifier(),\n",
    "    #RandomForestClassifier()\n",
    "]\n",
    "\n",
    "results = []\n",
    "for imputer in imputers:\n",
    "    # Impute missing values on the training set\n",
    "    X_train_imputed = imputer.fit_transform(X_train_scaled)\n",
    "\n",
    "    # Impute missing values on the test set\n",
    "    X_test_imputed = imputer.transform(X_test_scaled)\n",
    "\n",
    "    for model in models:\n",
    "        # Train the model on the imputed training set\n",
    "        model.fit(X_train_imputed, y_train)\n",
    "\n",
    "        # Make predictions on the imputed test set\n",
    "        predictions = model.predict(X_test_imputed)\n",
    "\n",
    "\n",
    "        accuracy = accuracy_score(y_test, predictions)\n",
    "        results.append([type(imputer).__name__, type(model).__name__, accuracy])\n",
    "\n",
    "results_df = pd.DataFrame(results, columns=['Imputation Algorithm', 'Prediction Algorithm', 'Accuracy'])\n",
    "print(results_df)"
   ],
   "metadata": {
    "collapsed": false
   }
  },
  {
   "cell_type": "markdown",
   "source": [
    "Методы импутации пропущенных значений показали лучшую точность для модели LogisticRegression 99%\n",
    "В целом, использование методов импутации пропущенных значений совместно с моделями классификации привело к высокой производительности всех моделей, с точностью не менее 90%, что показывает хороший результат"
   ],
   "metadata": {
    "collapsed": false
   }
  }
 ],
 "metadata": {
  "kernelspec": {
   "display_name": "Python 3",
   "language": "python",
   "name": "python3"
  },
  "language_info": {
   "codemirror_mode": {
    "name": "ipython",
    "version": 2
   },
   "file_extension": ".py",
   "mimetype": "text/x-python",
   "name": "python",
   "nbconvert_exporter": "python",
   "pygments_lexer": "ipython2",
   "version": "2.7.6"
  }
 },
 "nbformat": 4,
 "nbformat_minor": 0
}
